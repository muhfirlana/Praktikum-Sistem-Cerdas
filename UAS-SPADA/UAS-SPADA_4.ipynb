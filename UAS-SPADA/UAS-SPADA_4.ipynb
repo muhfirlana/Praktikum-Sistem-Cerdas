{
 "cells": [
  {
   "cell_type": "code",
   "execution_count": 1,
   "id": "8676dee5-2412-41ea-8ded-a28c2581c0ca",
   "metadata": {},
   "outputs": [],
   "source": [
    "#UAS SPADA no 3\n",
    "#Muhammad Firdaus Maulana\n",
    "#21.52.0017\n",
    "#Lakukan sebuah regresi dengan menggunakan Algoritma KNN dalam soal no.3, dengan ketentuan sebagai berikut :\n",
    "#a. Umur : merupakan umur dari ibu hamil\n",
    "#b. Kelahiran ke- : merupakan kelahiran anak ke-... dari ibu tersebut\n",
    "#c. Waktu Kelahiran : 0 = sesuai dengan hari perkiraan lahir (HPL), 1 = prematur, 2 = melebihi hari perkiraan lahir\n",
    "#d. Tekanan_darah : 0 = untuk darah rendah, 1 = normal, 2 = tinggi\n",
    "#e. Kelainan Jantung : merupakan kelainan jantung untuk anak yang telah lahir 0 = normal, 1 = kelainan\n",
    "#f. Caesarian : 1 = Ya, 0 = Normal \n",
    "#Pertanyaan:\n",
    "#a. Berdasarkan data tersebut bagaimana perlakuan dengan kondisi Ibu hamil dengan Usia 35 Tahun, yang merupakan Kelahiran ke -1, dengan Waktu kelahiran sesuai dengan HPL, Memiliki tekanan darahNormal? Carilah KNN dengan menggunakan Key = 5 \n",
    "#b. Bagaimana Apabila Ibu hamil dengan Usia 29 Tahun, yang merupakan Kelahiran ke -2, dengan Waktu kelahiran sesuai dengan HPL, Memiliki tekanan darah Tinggi? Carilah KNN dengan menggunakan Key = 3\n"
   ]
  },
  {
   "cell_type": "code",
   "execution_count": 2,
   "id": "afc32b84-3b90-4e4c-9964-8edc6ac89fce",
   "metadata": {},
   "outputs": [],
   "source": [
    "import pandas as pd\n",
    "import numpy as np"
   ]
  },
  {
   "cell_type": "code",
   "execution_count": 6,
   "id": "e9e45218-e0f8-4736-988f-8ecd8f4d9f9f",
   "metadata": {},
   "outputs": [],
   "source": [
    "data = pd.read_csv('E:/!!!STIMATA/MATKUL/SISTEM CERDAS/UAS_SPADA/dataset/dataset_soal No. 3.txt')"
   ]
  },
  {
   "cell_type": "code",
   "execution_count": 7,
   "id": "f670832a-74da-48c2-8566-86e39fc7350a",
   "metadata": {},
   "outputs": [
    {
     "data": {
      "text/html": [
       "<div>\n",
       "<style scoped>\n",
       "    .dataframe tbody tr th:only-of-type {\n",
       "        vertical-align: middle;\n",
       "    }\n",
       "\n",
       "    .dataframe tbody tr th {\n",
       "        vertical-align: top;\n",
       "    }\n",
       "\n",
       "    .dataframe thead th {\n",
       "        text-align: right;\n",
       "    }\n",
       "</style>\n",
       "<table border=\"1\" class=\"dataframe\">\n",
       "  <thead>\n",
       "    <tr style=\"text-align: right;\">\n",
       "      <th></th>\n",
       "      <th>Usia</th>\n",
       "      <th>Kelahiran_ke-</th>\n",
       "      <th>Waktu_Kelahiran</th>\n",
       "      <th>Tekanan_darah</th>\n",
       "      <th>Kelainan_jantung</th>\n",
       "      <th>Caesarian</th>\n",
       "    </tr>\n",
       "  </thead>\n",
       "  <tbody>\n",
       "    <tr>\n",
       "      <th>0</th>\n",
       "      <td>22</td>\n",
       "      <td>1</td>\n",
       "      <td>0</td>\n",
       "      <td>2</td>\n",
       "      <td>0</td>\n",
       "      <td>0</td>\n",
       "    </tr>\n",
       "    <tr>\n",
       "      <th>1</th>\n",
       "      <td>26</td>\n",
       "      <td>2</td>\n",
       "      <td>0</td>\n",
       "      <td>1</td>\n",
       "      <td>0</td>\n",
       "      <td>1</td>\n",
       "    </tr>\n",
       "    <tr>\n",
       "      <th>2</th>\n",
       "      <td>26</td>\n",
       "      <td>2</td>\n",
       "      <td>1</td>\n",
       "      <td>1</td>\n",
       "      <td>0</td>\n",
       "      <td>0</td>\n",
       "    </tr>\n",
       "    <tr>\n",
       "      <th>3</th>\n",
       "      <td>28</td>\n",
       "      <td>1</td>\n",
       "      <td>0</td>\n",
       "      <td>2</td>\n",
       "      <td>0</td>\n",
       "      <td>0</td>\n",
       "    </tr>\n",
       "    <tr>\n",
       "      <th>4</th>\n",
       "      <td>22</td>\n",
       "      <td>2</td>\n",
       "      <td>0</td>\n",
       "      <td>1</td>\n",
       "      <td>0</td>\n",
       "      <td>1</td>\n",
       "    </tr>\n",
       "  </tbody>\n",
       "</table>\n",
       "</div>"
      ],
      "text/plain": [
       "   Usia  Kelahiran_ke-  Waktu_Kelahiran  Tekanan_darah  Kelainan_jantung  \\\n",
       "0    22              1                0              2                 0   \n",
       "1    26              2                0              1                 0   \n",
       "2    26              2                1              1                 0   \n",
       "3    28              1                0              2                 0   \n",
       "4    22              2                0              1                 0   \n",
       "\n",
       "   Caesarian  \n",
       "0          0  \n",
       "1          1  \n",
       "2          0  \n",
       "3          0  \n",
       "4          1  "
      ]
     },
     "execution_count": 7,
     "metadata": {},
     "output_type": "execute_result"
    }
   ],
   "source": [
    "data.head()"
   ]
  },
  {
   "cell_type": "code",
   "execution_count": 9,
   "id": "4c4b52ca-75ad-4b75-a4df-7aa4f4530504",
   "metadata": {},
   "outputs": [
    {
     "data": {
      "text/plain": [
       "NearestNeighbors(algorithm='brute', metric='cosine')"
      ]
     },
     "execution_count": 9,
     "metadata": {},
     "output_type": "execute_result"
    }
   ],
   "source": [
    "from scipy.sparse import csr_matrix\n",
    "\n",
    "data_matrix = csr_matrix(data.values)\n",
    "\n",
    "from sklearn.neighbors import NearestNeighbors\n",
    "\n",
    "model_knn = NearestNeighbors(metric = 'cosine', algorithm='brute')\n",
    "model_knn.fit(data_matrix)"
   ]
  },
  {
   "cell_type": "code",
   "execution_count": 14,
   "id": "b97690e0-e5f5-4b8c-abc2-8ece33dee374",
   "metadata": {},
   "outputs": [
    {
     "name": "stdout",
     "output_type": "stream",
     "text": [
      "22\n"
     ]
    }
   ],
   "source": [
    "#a. Berdasarkan data tersebut bagaimana perlakuan dengan kondisi Ibu hamil dengan Usia 35 Tahun, yang merupakan Kelahiran ke -1, dengan Waktu kelahiran sesuai dengan HPL, Memiliki tekanan darahNormal? Carilah KNN dengan menggunakan Key = 5 \n",
    "\n",
    "query_index = np.random.choice(data.shape[0])\n",
    "print(query_index)\n",
    "distances, indices = model_knn.kneighbors(data.iloc[query_index,:].values.reshape(1,-1),n_neighbors=5)"
   ]
  },
  {
   "cell_type": "code",
   "execution_count": 16,
   "id": "63e3366b-ddb4-4f13-b171-05c1727071d1",
   "metadata": {},
   "outputs": [
    {
     "name": "stdout",
     "output_type": "stream",
     "text": [
      "35\n"
     ]
    }
   ],
   "source": [
    "#b. Bagaimana Apabila Ibu hamil dengan Usia 29 Tahun, yang merupakan Kelahiran ke -2, dengan Waktu kelahiran sesuai dengan HPL, Memiliki tekanan darah Tinggi? Carilah KNN dengan menggunakan Key = 3\n",
    "\n",
    "query_index = np.random.choice(data.shape[0])\n",
    "print(query_index)\n",
    "distances, indices = model_knn.kneighbors(data.iloc[query_index,:].values.reshape(1,-1),n_neighbors=3)"
   ]
  },
  {
   "cell_type": "code",
   "execution_count": null,
   "id": "9cc648ac-906b-4c65-b86f-ac25984517c5",
   "metadata": {},
   "outputs": [],
   "source": []
  }
 ],
 "metadata": {
  "kernelspec": {
   "display_name": "Python 3",
   "language": "python",
   "name": "python3"
  },
  "language_info": {
   "codemirror_mode": {
    "name": "ipython",
    "version": 3
   },
   "file_extension": ".py",
   "mimetype": "text/x-python",
   "name": "python",
   "nbconvert_exporter": "python",
   "pygments_lexer": "ipython3",
   "version": "3.8.8"
  }
 },
 "nbformat": 4,
 "nbformat_minor": 5
}
