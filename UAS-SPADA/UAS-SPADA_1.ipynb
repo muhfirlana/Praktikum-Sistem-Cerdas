{
 "cells": [
  {
   "cell_type": "code",
   "execution_count": 1,
   "id": "dc71b4e1-89e8-458f-aeb1-eb7b4f756bba",
   "metadata": {},
   "outputs": [],
   "source": [
    "#UAS SPADA no 1\n",
    "#Muhammad Firdaus Maulana\n",
    "#21.52.0017\n",
    "#Carilah sebuah artikel dengan menggunakan bahasa inggris sesuaikan dengan isue2 terkini, \n",
    "#laku dimasing-masing kalimat dalam artikel terbuat buatlah sebuah data set yang nantinya \n",
    "#akan diolah menggunakan text processing dengan menggunakan Stop Word Filtering (artikel minimal 20 kalimat)."
   ]
  },
  {
   "cell_type": "code",
   "execution_count": 2,
   "id": "3de443a1-b92a-4406-9fce-20afb4c3a0ea",
   "metadata": {},
   "outputs": [
    {
     "data": {
      "text/plain": [
       "['The world faces an unprecedented global health and socio-economic crisis triggered by the COVID-19 pandemic',\n",
       " 'In Indonesia, the lives of millions of children and their families have already been upended',\n",
       " 'Lockdowns and school closures are affecting their education, mental health and access to basic health services',\n",
       " 'Since the first case of COVID-19 was reported in Indonesia',\n",
       " 'UNICEF has been leading efforts with the government',\n",
       " 'the World Health Organization and other partners to respond to the pandemic',\n",
       " 'Without urgent action, disruption caused by COVID-19 will have lifelong consequences for the safety',\n",
       " 'well-being, and future of children in Indonesia',\n",
       " 'eveals evidence that the virus is already causing widespread income insecurity for families across the country living in extreme poverty',\n",
       " 'many of whom are not covered by social protection programmes',\n",
       " 'UNICEF, in partnership with AJI Indonesia (Alliance of Independent Journalists',\n",
       " 'conducted a series of media webinars to discuss the impact of COVID-19 on children in Indonesia',\n",
       " 'The webinars included journalists and experts from relevant fields as guest speakers',\n",
       " 'For seven decades, protecting the rights of every child has been at the heart of UNICEF’s work in Indonesia',\n",
       " 'As a trusted partner of government, civil society and the private sector',\n",
       " 'UNICEF is committed to doing whatever it takes to help children survive, thrive and fulfil their potential',\n",
       " 'starting where a child’s lifecycle begins in pregnancy, all the way to adulthood',\n",
       " 'On the ground in the communities or within the corridors of ministries',\n",
       " 'UNICEF’s work in Indonesia encompasses research, policy and programme advice as well as practical support to equitable planning',\n",
       " 'financing and delivery of essential services for Indonesia’s 80 million children, focussing on the most vulnerable.']"
      ]
     },
     "execution_count": 2,
     "metadata": {},
     "output_type": "execute_result"
    }
   ],
   "source": [
    "#dataset\n",
    "\n",
    "corpus = [\n",
    "    'The world faces an unprecedented global health and socio-economic crisis triggered by the COVID-19 pandemic',\n",
    "    'In Indonesia, the lives of millions of children and their families have already been upended',\n",
    "    'Lockdowns and school closures are affecting their education, mental health and access to basic health services',\n",
    "    'Since the first case of COVID-19 was reported in Indonesia',\n",
    "    'UNICEF has been leading efforts with the government',\n",
    "    'the World Health Organization and other partners to respond to the pandemic',\n",
    "    'Without urgent action, disruption caused by COVID-19 will have lifelong consequences for the safety', \n",
    "    'well-being, and future of children in Indonesia',\n",
    "    'eveals evidence that the virus is already causing widespread income insecurity for families across the country living in extreme poverty',\n",
    "    'many of whom are not covered by social protection programmes',\n",
    "    'UNICEF, in partnership with AJI Indonesia (Alliance of Independent Journalists',\n",
    "    'conducted a series of media webinars to discuss the impact of COVID-19 on children in Indonesia',\n",
    "    'The webinars included journalists and experts from relevant fields as guest speakers',\n",
    "    'For seven decades, protecting the rights of every child has been at the heart of UNICEF’s work in Indonesia',\n",
    "    'As a trusted partner of government, civil society and the private sector',\n",
    "    'UNICEF is committed to doing whatever it takes to help children survive, thrive and fulfil their potential',\n",
    "    'starting where a child’s lifecycle begins in pregnancy, all the way to adulthood',\n",
    "    'On the ground in the communities or within the corridors of ministries', \n",
    "    'UNICEF’s work in Indonesia encompasses research, policy and programme advice as well as practical support to equitable planning',\n",
    "    'financing and delivery of essential services for Indonesia’s 80 million children, focussing on the most vulnerable.'\n",
    "]\n",
    "\n",
    "corpus"
   ]
  },
  {
   "cell_type": "code",
   "execution_count": 3,
   "id": "ed7e62e8-d7eb-4441-8e3c-e5f971be87b2",
   "metadata": {},
   "outputs": [
    {
     "data": {
      "text/plain": [
       "matrix([[1, 0, 0, ..., 0, 0, 1],\n",
       "        [0, 0, 0, ..., 0, 0, 0],\n",
       "        [0, 0, 1, ..., 0, 0, 0],\n",
       "        ...,\n",
       "        [0, 0, 0, ..., 0, 0, 0],\n",
       "        [0, 0, 0, ..., 0, 1, 0],\n",
       "        [0, 1, 0, ..., 0, 0, 0]], dtype=int64)"
      ]
     },
     "execution_count": 3,
     "metadata": {},
     "output_type": "execute_result"
    }
   ],
   "source": [
    "#text processing : Stop Word Filtering\n",
    "\n",
    "from sklearn.feature_extraction.text import CountVectorizer\n",
    "\n",
    "vectorizer = CountVectorizer(stop_words='english')\n",
    "vectorizer_X = vectorizer.fit_transform(corpus).todense()\n",
    "vectorizer_X"
   ]
  },
  {
   "cell_type": "code",
   "execution_count": 4,
   "id": "55f68c26-4c75-4e94-8c2e-45239af2eda4",
   "metadata": {},
   "outputs": [
    {
     "name": "stderr",
     "output_type": "stream",
     "text": [
      "C:\\Users\\user\\anaconda3\\lib\\site-packages\\sklearn\\utils\\deprecation.py:87: FutureWarning: Function get_feature_names is deprecated; get_feature_names is deprecated in 1.0 and will be removed in 1.2. Please use get_feature_names_out instead.\n",
      "  warnings.warn(msg, category=FutureWarning)\n"
     ]
    },
    {
     "data": {
      "text/plain": [
       "['19',\n",
       " '80',\n",
       " 'access',\n",
       " 'action',\n",
       " 'adulthood',\n",
       " 'advice',\n",
       " 'affecting',\n",
       " 'aji',\n",
       " 'alliance',\n",
       " 'basic',\n",
       " 'begins',\n",
       " 'case',\n",
       " 'caused',\n",
       " 'causing',\n",
       " 'child',\n",
       " 'children',\n",
       " 'civil',\n",
       " 'closures',\n",
       " 'committed',\n",
       " 'communities',\n",
       " 'conducted',\n",
       " 'consequences',\n",
       " 'corridors',\n",
       " 'country',\n",
       " 'covered',\n",
       " 'covid',\n",
       " 'crisis',\n",
       " 'decades',\n",
       " 'delivery',\n",
       " 'discuss',\n",
       " 'disruption',\n",
       " 'doing',\n",
       " 'economic',\n",
       " 'education',\n",
       " 'efforts',\n",
       " 'encompasses',\n",
       " 'equitable',\n",
       " 'essential',\n",
       " 'eveals',\n",
       " 'evidence',\n",
       " 'experts',\n",
       " 'extreme',\n",
       " 'faces',\n",
       " 'families',\n",
       " 'fields',\n",
       " 'financing',\n",
       " 'focussing',\n",
       " 'fulfil',\n",
       " 'future',\n",
       " 'global',\n",
       " 'government',\n",
       " 'ground',\n",
       " 'guest',\n",
       " 'health',\n",
       " 'heart',\n",
       " 'help',\n",
       " 'impact',\n",
       " 'included',\n",
       " 'income',\n",
       " 'independent',\n",
       " 'indonesia',\n",
       " 'insecurity',\n",
       " 'journalists',\n",
       " 'leading',\n",
       " 'lifecycle',\n",
       " 'lifelong',\n",
       " 'lives',\n",
       " 'living',\n",
       " 'lockdowns',\n",
       " 'media',\n",
       " 'mental',\n",
       " 'million',\n",
       " 'millions',\n",
       " 'ministries',\n",
       " 'organization',\n",
       " 'pandemic',\n",
       " 'partner',\n",
       " 'partners',\n",
       " 'partnership',\n",
       " 'planning',\n",
       " 'policy',\n",
       " 'potential',\n",
       " 'poverty',\n",
       " 'practical',\n",
       " 'pregnancy',\n",
       " 'private',\n",
       " 'programme',\n",
       " 'programmes',\n",
       " 'protecting',\n",
       " 'protection',\n",
       " 'relevant',\n",
       " 'reported',\n",
       " 'research',\n",
       " 'respond',\n",
       " 'rights',\n",
       " 'safety',\n",
       " 'school',\n",
       " 'sector',\n",
       " 'series',\n",
       " 'services',\n",
       " 'seven',\n",
       " 'social',\n",
       " 'society',\n",
       " 'socio',\n",
       " 'speakers',\n",
       " 'starting',\n",
       " 'support',\n",
       " 'survive',\n",
       " 'takes',\n",
       " 'thrive',\n",
       " 'triggered',\n",
       " 'trusted',\n",
       " 'unicef',\n",
       " 'unprecedented',\n",
       " 'upended',\n",
       " 'urgent',\n",
       " 'virus',\n",
       " 'vulnerable',\n",
       " 'way',\n",
       " 'webinars',\n",
       " 'widespread',\n",
       " 'work',\n",
       " 'world']"
      ]
     },
     "execution_count": 4,
     "metadata": {},
     "output_type": "execute_result"
    }
   ],
   "source": [
    "vectorizer.get_feature_names()"
   ]
  },
  {
   "cell_type": "code",
   "execution_count": null,
   "id": "5382bd07-205e-4b5d-ad6f-6241abb8c6ec",
   "metadata": {},
   "outputs": [],
   "source": []
  }
 ],
 "metadata": {
  "kernelspec": {
   "display_name": "Python 3",
   "language": "python",
   "name": "python3"
  },
  "language_info": {
   "codemirror_mode": {
    "name": "ipython",
    "version": 3
   },
   "file_extension": ".py",
   "mimetype": "text/x-python",
   "name": "python",
   "nbconvert_exporter": "python",
   "pygments_lexer": "ipython3",
   "version": "3.8.8"
  }
 },
 "nbformat": 4,
 "nbformat_minor": 5
}
