{
 "cells": [
  {
   "cell_type": "code",
   "execution_count": 1,
   "id": "8ed3a3ec-0bfa-43cc-ae44-932f86a5e9aa",
   "metadata": {},
   "outputs": [
    {
     "data": {
      "text/html": [
       "<div>\n",
       "<style scoped>\n",
       "    .dataframe tbody tr th:only-of-type {\n",
       "        vertical-align: middle;\n",
       "    }\n",
       "\n",
       "    .dataframe tbody tr th {\n",
       "        vertical-align: top;\n",
       "    }\n",
       "\n",
       "    .dataframe thead th {\n",
       "        text-align: right;\n",
       "    }\n",
       "</style>\n",
       "<table border=\"1\" class=\"dataframe\">\n",
       "  <thead>\n",
       "    <tr style=\"text-align: right;\">\n",
       "      <th></th>\n",
       "      <th>diameter</th>\n",
       "      <th>harga</th>\n",
       "    </tr>\n",
       "  </thead>\n",
       "  <tbody>\n",
       "    <tr>\n",
       "      <th>0</th>\n",
       "      <td>6</td>\n",
       "      <td>7.0</td>\n",
       "    </tr>\n",
       "    <tr>\n",
       "      <th>1</th>\n",
       "      <td>8</td>\n",
       "      <td>9.0</td>\n",
       "    </tr>\n",
       "    <tr>\n",
       "      <th>2</th>\n",
       "      <td>10</td>\n",
       "      <td>13.0</td>\n",
       "    </tr>\n",
       "    <tr>\n",
       "      <th>3</th>\n",
       "      <td>14</td>\n",
       "      <td>17.5</td>\n",
       "    </tr>\n",
       "    <tr>\n",
       "      <th>4</th>\n",
       "      <td>18</td>\n",
       "      <td>20.0</td>\n",
       "    </tr>\n",
       "  </tbody>\n",
       "</table>\n",
       "</div>"
      ],
      "text/plain": [
       "   diameter  harga\n",
       "0         6    7.0\n",
       "1         8    9.0\n",
       "2        10   13.0\n",
       "3        14   17.5\n",
       "4        18   20.0"
      ]
     },
     "execution_count": 1,
     "metadata": {},
     "output_type": "execute_result"
    }
   ],
   "source": [
    "#simple linear regession dataset\n",
    "\n",
    "import pandas as pd\n",
    "\n",
    "bola = {'diameter' : [6,8,10,14,18],\n",
    "       'harga' : [7,9,13,17.5,20]}\n",
    "\n",
    "bola_df = pd.DataFrame(bola)\n",
    "bola_df"
   ]
  },
  {
   "cell_type": "code",
   "execution_count": 2,
   "id": "3985dc21-0540-4fec-ba72-d279fc59cea4",
   "metadata": {},
   "outputs": [
    {
     "data": {
      "image/png": "[encoded data removed]",
      "text/plain": [
       "<Figure size 432x288 with 1 Axes>"
      ]
     },
     "metadata": {
      "needs_background": "light"
     },
     "output_type": "display_data"
    }
   ],
   "source": [
    "import matplotlib.pyplot as plt\n",
    "\n",
    "bola_df.plot(kind='scatter',x='diameter',y='harga')\n",
    "\n",
    "plt.title('Perpandingan Diameter dan Harga Bola')\n",
    "plt.xlabel('Diameter (inchi)')\n",
    "plt.ylabel('Harga(dollar)')\n",
    "plt.xlim(0,25)\n",
    "plt.ylim(0,25)\n",
    "plt.grid(True)\n",
    "plt.show()"
   ]
  },
  {
   "cell_type": "code",
   "execution_count": 4,
   "id": "2675c2a5-f0b5-4460-adc3-2c6cab2280d4",
   "metadata": {},
   "outputs": [
    {
     "name": "stdout",
     "output_type": "stream",
     "text": [
      "x : [ 6  8 10 14 18]\n",
      "y : [ 7.   9.  13.  17.5 20. ]\n"
     ]
    }
   ],
   "source": [
    "#model simple linier regression\n",
    "\n",
    "#1.penyesuaian dataset\n",
    "\n",
    "import numpy as np\n",
    "\n",
    "x = np.array(bola_df['diameter'])\n",
    "y = np.array(bola_df['harga'])\n",
    "\n",
    "print(f'x : {x}')\n",
    "print(f'y : {y}')"
   ]
  },
  {
   "cell_type": "code",
   "execution_count": 5,
   "id": "f4f73bdc-6c02-437d-bce0-ec6d6801afee",
   "metadata": {},
   "outputs": [
    {
     "data": {
      "text/plain": [
       "(5, 1)"
      ]
     },
     "execution_count": 5,
     "metadata": {},
     "output_type": "execute_result"
    }
   ],
   "source": [
    "X = x.reshape(-1,1)\n",
    "X.shape"
   ]
  },
  {
   "cell_type": "code",
   "execution_count": 6,
   "id": "406ff094-c7c5-4384-8c04-8f89306a3150",
   "metadata": {},
   "outputs": [
    {
     "data": {
      "text/plain": [
       "array([[ 6],\n",
       "       [ 8],\n",
       "       [10],\n",
       "       [14],\n",
       "       [18]], dtype=int64)"
      ]
     },
     "execution_count": 6,
     "metadata": {},
     "output_type": "execute_result"
    }
   ],
   "source": [
    "X"
   ]
  },
  {
   "cell_type": "code",
   "execution_count": 8,
   "id": "ebc8ab9c-a5ed-43b2-8567-129f3aa13cb9",
   "metadata": {},
   "outputs": [
    {
     "data": {
      "text/plain": [
       "LinearRegression()"
      ]
     },
     "execution_count": 8,
     "metadata": {},
     "output_type": "execute_result"
    }
   ],
   "source": [
    "#training simple linier regression model\n",
    "\n",
    "from sklearn.linear_model import LinearRegression\n",
    "\n",
    "model = LinearRegression()\n",
    "model.fit(X,y)"
   ]
  },
  {
   "cell_type": "code",
   "execution_count": 9,
   "id": "a44c0d72-9173-424b-a7e1-5e15aeb5da44",
   "metadata": {},
   "outputs": [],
   "source": [
    "#visualisasi simple linear regression model\n",
    "\n",
    "X_vis = np.array([0,25]).reshape(-1,1)\n",
    "y_vis = model.predict(X_vis)"
   ]
  },
  {
   "cell_type": "code",
   "execution_count": 10,
   "id": "80c63eae-3395-4eae-a969-ffd2ab6aaf29",
   "metadata": {},
   "outputs": [
    {
     "data": {
      "image/png": "[encoded data removed]",
      "text/plain": [
       "<Figure size 432x288 with 1 Axes>"
      ]
     },
     "metadata": {
      "needs_background": "light"
     },
     "output_type": "display_data"
    }
   ],
   "source": [
    "plt.scatter(X,y)\n",
    "plt.plot(X_vis, y_vis, '-r')\n",
    "\n",
    "plt.title('perbandingan diameter dan harga bola')\n",
    "plt.xlabel('diameter (inchi)')\n",
    "plt.ylabel('harga(dollar)')\n",
    "plt.xlim(0,25)\n",
    "plt.ylim(0,25)\n",
    "plt.grid()\n",
    "plt.show()"
   ]
  },
  {
   "cell_type": "code",
   "execution_count": 11,
   "id": "b6cf5f7f-4b31-4db4-8e0d-202fea8654ce",
   "metadata": {},
   "outputs": [
    {
     "name": "stdout",
     "output_type": "stream",
     "text": [
      "intercept : 0.7241379310344875\n",
      "slope : [1.12284483]\n"
     ]
    }
   ],
   "source": [
    "print(f'intercept : {model.intercept_}')\n",
    "print(f'slope : {model.coef_}')"
   ]
  },
  {
   "cell_type": "code",
   "execution_count": 12,
   "id": "f85e31b0-ca3e-470c-b3f6-57bf792e06eb",
   "metadata": {},
   "outputs": [
    {
     "name": "stdout",
     "output_type": "stream",
     "text": [
      "X:\n",
      "[[ 6]\n",
      " [ 8]\n",
      " [10]\n",
      " [14]\n",
      " [18]]\n",
      "\n",
      "X flatten: [ 6  8 10 14 18]\n",
      "\n",
      "y:[ 7.   9.  13.  17.5 20. ]\n"
     ]
    }
   ],
   "source": [
    "#mencari nilai slope\n",
    "\n",
    "print(f'X:\\n{X}\\n')\n",
    "print(f'X flatten: {X.flatten()}\\n')\n",
    "print(f'y:{y}')"
   ]
  },
  {
   "cell_type": "code",
   "execution_count": 13,
   "id": "81a3192c-4685-4698-a412-20615a8fb140",
   "metadata": {},
   "outputs": [
    {
     "name": "stdout",
     "output_type": "stream",
     "text": [
      "variance: 23.2\n"
     ]
    }
   ],
   "source": [
    "#variance\n",
    "\n",
    "variance_x = np.var(X.flatten(), ddof=1)\n",
    "\n",
    "print(f'variance: {variance_x}')"
   ]
  },
  {
   "cell_type": "code",
   "execution_count": 14,
   "id": "74c9aee8-2f91-4964-9be0-ff660d768222",
   "metadata": {},
   "outputs": [
    {
     "data": {
      "text/plain": [
       "array([[23.2 , 26.05],\n",
       "       [26.05, 30.2 ]])"
      ]
     },
     "execution_count": 14,
     "metadata": {},
     "output_type": "execute_result"
    }
   ],
   "source": [
    "#covariance\n",
    "\n",
    "np.cov(X.flatten(),y)"
   ]
  },
  {
   "cell_type": "code",
   "execution_count": 15,
   "id": "f67462ff-758a-42f1-8812-8214741bbedc",
   "metadata": {},
   "outputs": [
    {
     "name": "stdout",
     "output_type": "stream",
     "text": [
      "covariance: 26.05\n"
     ]
    }
   ],
   "source": [
    "covariance_xy = np.cov(X.flatten(),y)[0][1]\n",
    "\n",
    "print(f'covariance: {covariance_xy}')"
   ]
  },
  {
   "cell_type": "code",
   "execution_count": 16,
   "id": "3ab5fa91-d867-416c-b237-2a64009f500e",
   "metadata": {},
   "outputs": [
    {
     "name": "stdout",
     "output_type": "stream",
     "text": [
      "slope: 1.1228448275862069\n"
     ]
    }
   ],
   "source": [
    "#nilai slope\n",
    "\n",
    "slope = covariance_xy / variance_x\n",
    "\n",
    "print(f'slope: {slope}')"
   ]
  },
  {
   "cell_type": "code",
   "execution_count": 17,
   "id": "ec8f1927-82b2-48b1-92bd-15271e773ba7",
   "metadata": {},
   "outputs": [
    {
     "name": "stdout",
     "output_type": "stream",
     "text": [
      "intercept:0.724137931034484\n"
     ]
    }
   ],
   "source": [
    "#mencari nilai intercept\n",
    "\n",
    "intercept = np.mean(y) - slope * np.mean(X)\n",
    "print(f'intercept:{intercept}')"
   ]
  },
  {
   "cell_type": "code",
   "execution_count": 19,
   "id": "971b1822-d398-4f3e-92a6-a801739be0d2",
   "metadata": {},
   "outputs": [
    {
     "data": {
      "text/plain": [
       "array([[ 7],\n",
       "       [13],\n",
       "       [15]])"
      ]
     },
     "execution_count": 19,
     "metadata": {},
     "output_type": "execute_result"
    }
   ],
   "source": [
    "#prediksi harga bola berdsarkan ukuran diameter\n",
    "\n",
    "diameter_bola = np.array([7,13,15]).reshape(-1,1)\n",
    "diameter_bola"
   ]
  },
  {
   "cell_type": "code",
   "execution_count": 20,
   "id": "69dfbe56-db74-4ae0-adb8-58e37a6dfc50",
   "metadata": {},
   "outputs": [
    {
     "data": {
      "text/plain": [
       "array([ 8.58405172, 15.32112069, 17.56681034])"
      ]
     },
     "execution_count": 20,
     "metadata": {},
     "output_type": "execute_result"
    }
   ],
   "source": [
    "prediksi_harga = model.predict(diameter_bola)\n",
    "prediksi_harga"
   ]
  },
  {
   "cell_type": "code",
   "execution_count": 21,
   "id": "c5bf0eb2-e0c6-4e0c-ae14-ab833ca3804d",
   "metadata": {},
   "outputs": [
    {
     "name": "stdout",
     "output_type": "stream",
     "text": [
      "Diameter:[7] prediksi harga: 8.584051724137934\n",
      "Diameter:[13] prediksi harga: 15.321120689655174\n",
      "Diameter:[15] prediksi harga: 17.566810344827587\n"
     ]
    }
   ],
   "source": [
    "for dmtr, hrg in zip(diameter_bola, prediksi_harga):\n",
    "    print(f'Diameter:{dmtr} prediksi harga: {hrg}')"
   ]
  },
  {
   "cell_type": "code",
   "execution_count": 22,
   "id": "0778d42e-7881-494e-8e03-54c95be2705c",
   "metadata": {},
   "outputs": [],
   "source": [
    "#evaluasi simple linear regression model training dan testing  dataset\n",
    "\n",
    "X_train = np.array([6,8,10,14,18]).reshape(-1,1)\n",
    "y_train = np.array([7,9,13,17.5,20])\n",
    "\n",
    "X_test = np.array([8,9,11,16,12]).reshape(-1,1)\n",
    "y_test = np.array([11,8.5,15,18,11])"
   ]
  },
  {
   "cell_type": "code",
   "execution_count": 23,
   "id": "51fc8ec3-1704-4711-af0c-6a8bdb17d87c",
   "metadata": {},
   "outputs": [
    {
     "data": {
      "text/plain": [
       "LinearRegression()"
      ]
     },
     "execution_count": 23,
     "metadata": {},
     "output_type": "execute_result"
    }
   ],
   "source": [
    "#training simple linear regression model\n",
    "\n",
    "model = LinearRegression()\n",
    "\n",
    "model.fit(X_train,y_train)"
   ]
  },
  {
   "cell_type": "code",
   "execution_count": 25,
   "id": "8ebfc65c-172c-4f1b-ba36-060d35cb2401",
   "metadata": {},
   "outputs": [
    {
     "name": "stdout",
     "output_type": "stream",
     "text": [
      "R-squared: 0.6213315163349296\n"
     ]
    }
   ],
   "source": [
    "#evaluasi linear regression model dengan coefficient of determination atau R-squared\n",
    "\n",
    "from sklearn.metrics import r2_score\n",
    "\n",
    "y_pred = model.predict(X_test)\n",
    "\n",
    "r_squared = r2_score(y_test, y_pred)\n",
    "print(f'R-squared: {r_squared}')"
   ]
  },
  {
   "cell_type": "code",
   "execution_count": null,
   "id": "671d39cd-c9c3-47e1-b3e8-8c6927dc1f3e",
   "metadata": {},
   "outputs": [],
   "source": []
  }
 ],
 "metadata": {
  "kernelspec": {
   "display_name": "Python 3",
   "language": "python",
   "name": "python3"
  },
  "language_info": {
   "codemirror_mode": {
    "name": "ipython",
    "version": 3
   },
   "file_extension": ".py",
   "mimetype": "text/x-python",
   "name": "python",
   "nbconvert_exporter": "python",
   "pygments_lexer": "ipython3",
   "version": "3.8.8"
  }
 },
 "nbformat": 4,
 "nbformat_minor": 5
}
