{
 "cells": [
  {
   "cell_type": "code",
   "execution_count": 1,
   "id": "f09f82ac-9cd6-4c34-bddf-3fa2d8a945df",
   "metadata": {},
   "outputs": [],
   "source": [
    "import numpy as np\n",
    "import pandas as pd\n",
    "import matplotlib.pyplot as plt\n"
   ]
  },
  {
   "cell_type": "code",
   "execution_count": 2,
   "id": "561f1fe0-7542-4e21-a92b-d1aaa0f3edac",
   "metadata": {},
   "outputs": [],
   "source": [
    "data = pd.read_excel('E:\\!!!STIMATA\\MATKUL\\SISTEM CERDAS\\Pertemuan 13\\Shooping Demo.xls')"
   ]
  },
  {
   "cell_type": "code",
   "execution_count": 3,
   "id": "29bcdfb2-4da0-471e-8aa0-185083377a2c",
   "metadata": {},
   "outputs": [
    {
     "data": {
      "text/html": [
       "<div>\n",
       "<style scoped>\n",
       "    .dataframe tbody tr th:only-of-type {\n",
       "        vertical-align: middle;\n",
       "    }\n",
       "\n",
       "    .dataframe tbody tr th {\n",
       "        vertical-align: top;\n",
       "    }\n",
       "\n",
       "    .dataframe thead th {\n",
       "        text-align: right;\n",
       "    }\n",
       "</style>\n",
       "<table border=\"1\" class=\"dataframe\">\n",
       "  <thead>\n",
       "    <tr style=\"text-align: right;\">\n",
       "      <th></th>\n",
       "      <th>Day</th>\n",
       "      <th>Discount</th>\n",
       "      <th>Free Delivery</th>\n",
       "      <th>Purchase</th>\n",
       "      <th>Unnamed: 4</th>\n",
       "      <th>Unnamed: 5</th>\n",
       "      <th>Unnamed: 6</th>\n",
       "    </tr>\n",
       "  </thead>\n",
       "  <tbody>\n",
       "    <tr>\n",
       "      <th>0</th>\n",
       "      <td>Weekday</td>\n",
       "      <td>Yes</td>\n",
       "      <td>Yes</td>\n",
       "      <td>Yes</td>\n",
       "      <td>YesYes</td>\n",
       "      <td>WeekdayYes</td>\n",
       "      <td>YesYes</td>\n",
       "    </tr>\n",
       "    <tr>\n",
       "      <th>1</th>\n",
       "      <td>Weekday</td>\n",
       "      <td>Yes</td>\n",
       "      <td>Yes</td>\n",
       "      <td>Yes</td>\n",
       "      <td>YesYes</td>\n",
       "      <td>WeekdayYes</td>\n",
       "      <td>YesYes</td>\n",
       "    </tr>\n",
       "    <tr>\n",
       "      <th>2</th>\n",
       "      <td>Weekend</td>\n",
       "      <td>No</td>\n",
       "      <td>No</td>\n",
       "      <td>No</td>\n",
       "      <td>NoNo</td>\n",
       "      <td>WeekendNo</td>\n",
       "      <td>NoNo</td>\n",
       "    </tr>\n",
       "    <tr>\n",
       "      <th>3</th>\n",
       "      <td>Holiday</td>\n",
       "      <td>Yes</td>\n",
       "      <td>Yes</td>\n",
       "      <td>Yes</td>\n",
       "      <td>YesYes</td>\n",
       "      <td>HolidayYes</td>\n",
       "      <td>YesYes</td>\n",
       "    </tr>\n",
       "    <tr>\n",
       "      <th>4</th>\n",
       "      <td>Weekday</td>\n",
       "      <td>Yes</td>\n",
       "      <td>Yes</td>\n",
       "      <td>Yes</td>\n",
       "      <td>YesYes</td>\n",
       "      <td>WeekdayYes</td>\n",
       "      <td>YesYes</td>\n",
       "    </tr>\n",
       "  </tbody>\n",
       "</table>\n",
       "</div>"
      ],
      "text/plain": [
       "       Day Discount Free Delivery Purchase Unnamed: 4  Unnamed: 5 Unnamed: 6\n",
       "0  Weekday      Yes           Yes      Yes     YesYes  WeekdayYes     YesYes\n",
       "1  Weekday      Yes           Yes      Yes     YesYes  WeekdayYes     YesYes\n",
       "2  Weekend       No            No       No       NoNo   WeekendNo       NoNo\n",
       "3  Holiday      Yes           Yes      Yes     YesYes  HolidayYes     YesYes\n",
       "4  Weekday      Yes           Yes      Yes     YesYes  WeekdayYes     YesYes"
      ]
     },
     "execution_count": 3,
     "metadata": {},
     "output_type": "execute_result"
    }
   ],
   "source": [
    "data.head()"
   ]
  },
  {
   "cell_type": "code",
   "execution_count": 4,
   "id": "fadcf0b7-b490-46d6-a7e7-e58e693d339f",
   "metadata": {},
   "outputs": [
    {
     "data": {
      "text/plain": [
       "(30, 7)"
      ]
     },
     "execution_count": 4,
     "metadata": {},
     "output_type": "execute_result"
    }
   ],
   "source": [
    "data.shape"
   ]
  },
  {
   "cell_type": "code",
   "execution_count": 6,
   "id": "f9fd466f-f77b-421d-8596-64e373784915",
   "metadata": {},
   "outputs": [
    {
     "data": {
      "text/plain": [
       "Yes    24\n",
       "No      6\n",
       "Name: Purchase, dtype: int64"
      ]
     },
     "execution_count": 6,
     "metadata": {},
     "output_type": "execute_result"
    }
   ],
   "source": [
    "data['Purchase'].value_counts()"
   ]
  },
  {
   "cell_type": "code",
   "execution_count": 7,
   "id": "27371457-6ec1-4147-af8c-284767027f9e",
   "metadata": {},
   "outputs": [],
   "source": [
    "PYes = 24/30\n",
    "PNo = 6/30"
   ]
  },
  {
   "cell_type": "code",
   "execution_count": 8,
   "id": "6a17e4a0-2b42-4847-ad6d-5f3383968f54",
   "metadata": {},
   "outputs": [
    {
     "name": "stdout",
     "output_type": "stream",
     "text": [
      "0.8\n"
     ]
    }
   ],
   "source": [
    "print(PYes)"
   ]
  },
  {
   "cell_type": "code",
   "execution_count": 9,
   "id": "0dc660d9-9c45-4bb4-bef2-9b9af90e6f4c",
   "metadata": {},
   "outputs": [
    {
     "name": "stdout",
     "output_type": "stream",
     "text": [
      "0.2\n"
     ]
    }
   ],
   "source": [
    "print(PNo)"
   ]
  },
  {
   "cell_type": "code",
   "execution_count": 10,
   "id": "08e0f2af-0ff2-4dac-8344-3ac7f5842761",
   "metadata": {},
   "outputs": [
    {
     "data": {
      "text/html": [
       "<div>\n",
       "<style scoped>\n",
       "    .dataframe tbody tr th:only-of-type {\n",
       "        vertical-align: middle;\n",
       "    }\n",
       "\n",
       "    .dataframe tbody tr th {\n",
       "        vertical-align: top;\n",
       "    }\n",
       "\n",
       "    .dataframe thead th {\n",
       "        text-align: right;\n",
       "    }\n",
       "</style>\n",
       "<table border=\"1\" class=\"dataframe\">\n",
       "  <thead>\n",
       "    <tr style=\"text-align: right;\">\n",
       "      <th>Purchase</th>\n",
       "      <th>No</th>\n",
       "      <th>Yes</th>\n",
       "    </tr>\n",
       "    <tr>\n",
       "      <th>Day</th>\n",
       "      <th></th>\n",
       "      <th></th>\n",
       "    </tr>\n",
       "  </thead>\n",
       "  <tbody>\n",
       "    <tr>\n",
       "      <th>Holiday</th>\n",
       "      <td>3</td>\n",
       "      <td>8</td>\n",
       "    </tr>\n",
       "    <tr>\n",
       "      <th>Weekday</th>\n",
       "      <td>2</td>\n",
       "      <td>9</td>\n",
       "    </tr>\n",
       "    <tr>\n",
       "      <th>Weekend</th>\n",
       "      <td>1</td>\n",
       "      <td>7</td>\n",
       "    </tr>\n",
       "  </tbody>\n",
       "</table>\n",
       "</div>"
      ],
      "text/plain": [
       "Purchase  No  Yes\n",
       "Day              \n",
       "Holiday    3    8\n",
       "Weekday    2    9\n",
       "Weekend    1    7"
      ]
     },
     "execution_count": 10,
     "metadata": {},
     "output_type": "execute_result"
    }
   ],
   "source": [
    "pd.crosstab(data['Day'],data['Purchase'])"
   ]
  },
  {
   "cell_type": "code",
   "execution_count": 11,
   "id": "b44735d0-4863-4d67-ba27-4da6845a3525",
   "metadata": {},
   "outputs": [
    {
     "name": "stdout",
     "output_type": "stream",
     "text": [
      "0.375\n"
     ]
    }
   ],
   "source": [
    "PHolidayNo = 3/6\n",
    "PWeekdayNo = 2/6\n",
    "PWeekendNo = 1/6\n",
    "\n",
    "PHolidayYes = 8/24\n",
    "PWeekdayYes = 9/24\n",
    "PWeekendYes = 7/24\n",
    "\n",
    "PHoliday = 11/30\n",
    "PWeekday = 11/30\n",
    "Pweekend = 8/30\n",
    "\n",
    "print(PWeekdayYes)"
   ]
  },
  {
   "cell_type": "code",
   "execution_count": 12,
   "id": "f5beaf40-9e4b-4d53-9106-af42340bb975",
   "metadata": {},
   "outputs": [],
   "source": [
    "# P(A | B) ?\n",
    "# P (B) = PWeekday\n",
    "# P (A) = No Buy\n",
    "# P(B | A) = P Weekday|NoBuy"
   ]
  },
  {
   "cell_type": "code",
   "execution_count": 13,
   "id": "4e8a5a9d-a3d4-472f-83af-5b33173fd52b",
   "metadata": {},
   "outputs": [
    {
     "name": "stdout",
     "output_type": "stream",
     "text": [
      "0.18181818181818182\n"
     ]
    }
   ],
   "source": [
    "PNoWeekday = (PWeekdayNo*PNo)/PWeekday\n",
    "print(PNoWeekday)"
   ]
  },
  {
   "cell_type": "code",
   "execution_count": 14,
   "id": "7a7c0a0b-6b45-4212-b9b0-1958f2d1b48e",
   "metadata": {},
   "outputs": [
    {
     "name": "stdout",
     "output_type": "stream",
     "text": [
      "0.8181818181818183\n"
     ]
    }
   ],
   "source": [
    "PYesWeekday = (PWeekdayYes*PYes)/PWeekday\n",
    "print(PYesWeekday)"
   ]
  },
  {
   "cell_type": "code",
   "execution_count": 15,
   "id": "f9df3157-d805-476c-8c4b-58c415295db0",
   "metadata": {},
   "outputs": [
    {
     "name": "stdout",
     "output_type": "stream",
     "text": [
      "0.18181818181818182\n",
      "0.8181818181818183\n"
     ]
    }
   ],
   "source": [
    "# probabilitas (Buy | Weekday) > dibanding dengan Probabilitas (NoBuy | Weekday)\n",
    "\n",
    "print(PNoWeekday)\n",
    "print(PYesWeekday)\n"
   ]
  },
  {
   "cell_type": "code",
   "execution_count": 16,
   "id": "d816b5d6-2830-4fcd-aed6-ee202575db60",
   "metadata": {},
   "outputs": [],
   "source": [
    "# kondisi B dimana\n",
    "# day  = holiday\n",
    "# discount = yes\n",
    "# free delivery = yes\n",
    "# A = buy\n",
    "# P(A|B) = P(Buy|DiscountYes, Free delivery Yes, PDayHoliday)"
   ]
  },
  {
   "cell_type": "code",
   "execution_count": 17,
   "id": "46b01a15-4559-4117-9cde-5c963573454e",
   "metadata": {},
   "outputs": [
    {
     "data": {
      "text/html": [
       "<div>\n",
       "<style scoped>\n",
       "    .dataframe tbody tr th:only-of-type {\n",
       "        vertical-align: middle;\n",
       "    }\n",
       "\n",
       "    .dataframe tbody tr th {\n",
       "        vertical-align: top;\n",
       "    }\n",
       "\n",
       "    .dataframe thead th {\n",
       "        text-align: right;\n",
       "    }\n",
       "</style>\n",
       "<table border=\"1\" class=\"dataframe\">\n",
       "  <thead>\n",
       "    <tr style=\"text-align: right;\">\n",
       "      <th>Purchase</th>\n",
       "      <th>No</th>\n",
       "      <th>Yes</th>\n",
       "    </tr>\n",
       "    <tr>\n",
       "      <th>Discount</th>\n",
       "      <th></th>\n",
       "      <th></th>\n",
       "    </tr>\n",
       "  </thead>\n",
       "  <tbody>\n",
       "    <tr>\n",
       "      <th>No</th>\n",
       "      <td>5</td>\n",
       "      <td>5</td>\n",
       "    </tr>\n",
       "    <tr>\n",
       "      <th>Yes</th>\n",
       "      <td>1</td>\n",
       "      <td>19</td>\n",
       "    </tr>\n",
       "  </tbody>\n",
       "</table>\n",
       "</div>"
      ],
      "text/plain": [
       "Purchase  No  Yes\n",
       "Discount         \n",
       "No         5    5\n",
       "Yes        1   19"
      ]
     },
     "execution_count": 17,
     "metadata": {},
     "output_type": "execute_result"
    }
   ],
   "source": [
    "pd.crosstab(data['Discount'], data['Purchase'])\n"
   ]
  },
  {
   "cell_type": "code",
   "execution_count": 18,
   "id": "49480b8a-c50f-4885-a016-62404073e540",
   "metadata": {},
   "outputs": [],
   "source": [
    "PNoDiscountNo = 5/6\n",
    "PYesDiscountNo = 1/6\n",
    "\n",
    "PNoDiscountYes = 5/24\n",
    "PYesDiscountYes = 19/24\n",
    "\n",
    "PNoDiscount = 10/30\n",
    "PYesDiscount = 20/30"
   ]
  },
  {
   "cell_type": "code",
   "execution_count": 19,
   "id": "4db9fce1-e5d5-46a2-8afd-1b607c683c5e",
   "metadata": {},
   "outputs": [
    {
     "data": {
      "text/html": [
       "<div>\n",
       "<style scoped>\n",
       "    .dataframe tbody tr th:only-of-type {\n",
       "        vertical-align: middle;\n",
       "    }\n",
       "\n",
       "    .dataframe tbody tr th {\n",
       "        vertical-align: top;\n",
       "    }\n",
       "\n",
       "    .dataframe thead th {\n",
       "        text-align: right;\n",
       "    }\n",
       "</style>\n",
       "<table border=\"1\" class=\"dataframe\">\n",
       "  <thead>\n",
       "    <tr style=\"text-align: right;\">\n",
       "      <th>Purchase</th>\n",
       "      <th>No</th>\n",
       "      <th>Yes</th>\n",
       "    </tr>\n",
       "    <tr>\n",
       "      <th>Free Delivery</th>\n",
       "      <th></th>\n",
       "      <th></th>\n",
       "    </tr>\n",
       "  </thead>\n",
       "  <tbody>\n",
       "    <tr>\n",
       "      <th>No</th>\n",
       "      <td>4</td>\n",
       "      <td>3</td>\n",
       "    </tr>\n",
       "    <tr>\n",
       "      <th>Yes</th>\n",
       "      <td>2</td>\n",
       "      <td>21</td>\n",
       "    </tr>\n",
       "  </tbody>\n",
       "</table>\n",
       "</div>"
      ],
      "text/plain": [
       "Purchase       No  Yes\n",
       "Free Delivery         \n",
       "No              4    3\n",
       "Yes             2   21"
      ]
     },
     "execution_count": 19,
     "metadata": {},
     "output_type": "execute_result"
    }
   ],
   "source": [
    "pd.crosstab(data['Free Delivery'],data['Purchase'])"
   ]
  },
  {
   "cell_type": "code",
   "execution_count": 21,
   "id": "2d8ba568-a249-47b1-89c1-8e0ad9ec029a",
   "metadata": {},
   "outputs": [],
   "source": [
    "PNoDeliveryNo = 4/6\n",
    "PYesDeliveryNo = 2/6\n",
    "\n",
    "PNoDeliveryYes = 3/24\n",
    "PYesDeliveryYes = 21/24\n",
    "\n",
    "PNoDelivery = 7/30\n",
    "PYesDelivery = 23/30"
   ]
  },
  {
   "cell_type": "code",
   "execution_count": 22,
   "id": "9a3ead1e-2b03-405f-a4de-b64791d408cc",
   "metadata": {},
   "outputs": [],
   "source": [
    "# kondisi B dimana \n",
    "# Day = Holiday\n",
    "# Discount = Yes\n",
    "# Free Delivery = Yes\n",
    "# P(A) = NoBuy = PNo\n",
    "# P(B) = PYesDiscount, PYesDelivery, PHoliday\n",
    "# P(B|A)1 = (PHoliday | No Buy) = PHolidayNo\n",
    "# P(B|A)2 = (PYesDiscount | No Buy) = PYesDiscountNo\n",
    "# P(B|A)3 = (PYesDelivery | No Buy) = PYesDeliveryNo\n",
    "# P(B)1 = PHoliday\n",
    "# P(B)2 = PYesDiscount\n",
    "# P(B)3 = PYesDelivery\n",
    "\n",
    "# ditanyakan P(A|B)?\n",
    "# rumus\n",
    "# P(A|B) = P(B|A)*P(A)/P(B)"
   ]
  },
  {
   "cell_type": "code",
   "execution_count": 23,
   "id": "1d75b912-84af-4027-bcd8-aa5c736e4e1e",
   "metadata": {},
   "outputs": [
    {
     "name": "stdout",
     "output_type": "stream",
     "text": [
      "0.029644268774703563\n"
     ]
    }
   ],
   "source": [
    "PNoBuy1 = ((PHolidayNo*PYesDiscountNo*PYesDeliveryNo)*PNo)/(PHoliday*PYesDiscount*PYesDelivery)\n",
    "print(PNoBuy1)"
   ]
  },
  {
   "cell_type": "code",
   "execution_count": 24,
   "id": "2d21d796-7a66-471f-9d82-b6bdba4dd3c7",
   "metadata": {},
   "outputs": [],
   "source": [
    "# kondisi B dimana \n",
    "# Day = Holiday\n",
    "# Discount = Yes\n",
    "# Free Delivery = Yes\n",
    "# P(A) = NoBuy = PNo\n",
    "# P(B) = PYesDiscount, PYesDelivery, PHoliday\n",
    "# P(B|A)1 = (PHoliday | No Buy) = PHolidayYes\n",
    "# P(B|A)2 = (PYesDiscount | No Buy) = PYesDiscountYes\n",
    "# P(B|A)3 = (PYesDelivery | No Buy) = PYesDeliveryYes\n",
    "# P(B)1 = PHoliday\n",
    "# P(B)2 = PYesDiscount\n",
    "# P(B)3 = PYesDelivery\n",
    "\n",
    "# ditanyakan P(A|B)?\n",
    "# rumus\n",
    "# P(A|B) = P(B|A)*P(A)/P(B)"
   ]
  },
  {
   "cell_type": "code",
   "execution_count": 25,
   "id": "5b76ee65-b33c-4b9e-b094-49a2438a16f0",
   "metadata": {},
   "outputs": [
    {
     "name": "stdout",
     "output_type": "stream",
     "text": [
      "0.9856719367588933\n"
     ]
    }
   ],
   "source": [
    "PBuy2 = ((PHolidayYes*PYesDiscountYes*PYesDeliveryYes)*PYes)/(PHoliday*PYesDiscount*PYesDelivery)\n",
    "print(PBuy2)"
   ]
  },
  {
   "cell_type": "code",
   "execution_count": 26,
   "id": "1526b634-daf5-494b-abc5-40a075236a53",
   "metadata": {},
   "outputs": [],
   "source": [
    "# probability of no purchase = 0.029644268774703563\n",
    "# probability of purchase  = 0.9856719367588933"
   ]
  },
  {
   "cell_type": "code",
   "execution_count": 27,
   "id": "b33a935e-4c8c-4665-b613-bbd7b106e98e",
   "metadata": {},
   "outputs": [
    {
     "name": "stdout",
     "output_type": "stream",
     "text": [
      "1.015316205533597\n"
     ]
    }
   ],
   "source": [
    "PSum = PNoBuy1 + PBuy2\n",
    "print(PSum)"
   ]
  },
  {
   "cell_type": "code",
   "execution_count": 28,
   "id": "0f292c2f-1dc0-4bd0-aee5-7ddc3836d462",
   "metadata": {},
   "outputs": [
    {
     "name": "stdout",
     "output_type": "stream",
     "text": [
      "97.08029197080292\n"
     ]
    }
   ],
   "source": [
    "PBuy = (PBuy2/PSum)*100\n",
    "print(PBuy)"
   ]
  },
  {
   "cell_type": "code",
   "execution_count": 29,
   "id": "3ddf7704-a20f-4aa9-832a-02a9eb5a448a",
   "metadata": {},
   "outputs": [
    {
     "name": "stdout",
     "output_type": "stream",
     "text": [
      "3.009830648815011\n"
     ]
    }
   ],
   "source": [
    "PNoBuy = (PNoBuy1*PSum)*100\n",
    "print(PNoBuy)"
   ]
  },
  {
   "cell_type": "code",
   "execution_count": null,
   "id": "5c26e138-0655-4bce-b72f-9bb85cce11bd",
   "metadata": {},
   "outputs": [],
   "source": []
  }
 ],
 "metadata": {
  "kernelspec": {
   "display_name": "Python 3",
   "language": "python",
   "name": "python3"
  },
  "language_info": {
   "codemirror_mode": {
    "name": "ipython",
    "version": 3
   },
   "file_extension": ".py",
   "mimetype": "text/x-python",
   "name": "python",
   "nbconvert_exporter": "python",
   "pygments_lexer": "ipython3",
   "version": "3.8.8"
  }
 },
 "nbformat": 4,
 "nbformat_minor": 5
}
