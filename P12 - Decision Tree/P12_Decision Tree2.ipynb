{
 "cells": [
  {
   "cell_type": "code",
   "execution_count": 3,
   "id": "97313973-30d5-4730-bc56-b8bdbf434c66",
   "metadata": {},
   "outputs": [],
   "source": [
    "import pandas as pd"
   ]
  },
  {
   "cell_type": "code",
   "execution_count": 4,
   "id": "89373af3-79cb-4b27-b5aa-64a54fd5f627",
   "metadata": {},
   "outputs": [],
   "source": [
    "data = pd.read_csv('E:\\!!!STIMATA\\MATKUL\\SISTEM CERDAS\\Pertemuan 12\\P12 - Decision Tree\\decisiontree_1.csv')\n",
    "encoding = {\"mesin\":{\"bensin\":0,\"diesel\":1},\"penggerak\":{\"depan\":0,\"belakang\":1}}\n",
    "data.replace(encoding, inplace=True)"
   ]
  },
  {
   "cell_type": "code",
   "execution_count": 5,
   "id": "5f3cb3c5-09cf-43a7-94cb-723614e84b22",
   "metadata": {},
   "outputs": [
    {
     "data": {
      "text/html": [
       "<div>\n",
       "<style scoped>\n",
       "    .dataframe tbody tr th:only-of-type {\n",
       "        vertical-align: middle;\n",
       "    }\n",
       "\n",
       "    .dataframe tbody tr th {\n",
       "        vertical-align: top;\n",
       "    }\n",
       "\n",
       "    .dataframe thead th {\n",
       "        text-align: right;\n",
       "    }\n",
       "</style>\n",
       "<table border=\"1\" class=\"dataframe\">\n",
       "  <thead>\n",
       "    <tr style=\"text-align: right;\">\n",
       "      <th></th>\n",
       "      <th>ID</th>\n",
       "      <th>mesin</th>\n",
       "      <th>bangku</th>\n",
       "      <th>penggerak</th>\n",
       "      <th>label</th>\n",
       "    </tr>\n",
       "  </thead>\n",
       "  <tbody>\n",
       "    <tr>\n",
       "      <th>0</th>\n",
       "      <td>1</td>\n",
       "      <td>0</td>\n",
       "      <td>4</td>\n",
       "      <td>0</td>\n",
       "      <td>sedan</td>\n",
       "    </tr>\n",
       "    <tr>\n",
       "      <th>1</th>\n",
       "      <td>2</td>\n",
       "      <td>0</td>\n",
       "      <td>2</td>\n",
       "      <td>0</td>\n",
       "      <td>sedan</td>\n",
       "    </tr>\n",
       "    <tr>\n",
       "      <th>2</th>\n",
       "      <td>3</td>\n",
       "      <td>0</td>\n",
       "      <td>8</td>\n",
       "      <td>1</td>\n",
       "      <td>minibus</td>\n",
       "    </tr>\n",
       "    <tr>\n",
       "      <th>3</th>\n",
       "      <td>4</td>\n",
       "      <td>1</td>\n",
       "      <td>6</td>\n",
       "      <td>0</td>\n",
       "      <td>minibus</td>\n",
       "    </tr>\n",
       "    <tr>\n",
       "      <th>4</th>\n",
       "      <td>5</td>\n",
       "      <td>0</td>\n",
       "      <td>5</td>\n",
       "      <td>1</td>\n",
       "      <td>minibus</td>\n",
       "    </tr>\n",
       "  </tbody>\n",
       "</table>\n",
       "</div>"
      ],
      "text/plain": [
       "   ID  mesin  bangku  penggerak    label\n",
       "0   1      0       4          0    sedan\n",
       "1   2      0       2          0    sedan\n",
       "2   3      0       8          1  minibus\n",
       "3   4      1       6          0  minibus\n",
       "4   5      0       5          1  minibus"
      ]
     },
     "execution_count": 5,
     "metadata": {},
     "output_type": "execute_result"
    }
   ],
   "source": [
    "#data frame\n",
    "\n",
    "data.head()"
   ]
  },
  {
   "cell_type": "code",
   "execution_count": 6,
   "id": "a6272d01-46d7-4c56-bd9d-d5ab6ed05b98",
   "metadata": {},
   "outputs": [],
   "source": [
    "#training data set\n",
    "\n",
    "X = data.drop(['ID','label'], axis=1)\n",
    "y = data['label']"
   ]
  },
  {
   "cell_type": "code",
   "execution_count": 7,
   "id": "e878f070-d767-48d5-b6d6-7e02548dd045",
   "metadata": {},
   "outputs": [],
   "source": [
    "#import library sklearn untuk membagi data training\n",
    "\n",
    "import sklearn.model_selection as ms\n",
    "X_train, X_test, y_train, y_test = ms.train_test_split(X,y, test_size=0.3)"
   ]
  },
  {
   "cell_type": "code",
   "execution_count": 9,
   "id": "06dec553-f018-4624-ba3f-e0bd68e9d62a",
   "metadata": {},
   "outputs": [
    {
     "data": {
      "text/plain": [
       "DecisionTreeClassifier(max_depth=3)"
      ]
     },
     "execution_count": 9,
     "metadata": {},
     "output_type": "execute_result"
    }
   ],
   "source": [
    "#import library decision tree \n",
    "\n",
    "import sklearn.tree as tree\n",
    "model = tree.DecisionTreeClassifier(criterion='gini', max_depth=3)\n",
    "model.fit(X_train, y_train)"
   ]
  },
  {
   "cell_type": "code",
   "execution_count": 10,
   "id": "27cfc835-1161-46f9-9101-1925687daa6a",
   "metadata": {},
   "outputs": [
    {
     "data": {
      "text/plain": [
       "array(['sedan', 'sedan', 'minibus', 'sedan', 'sedan', 'minibus', 'sedan',\n",
       "       'minibus', 'sedan', 'sedan'], dtype=object)"
      ]
     },
     "execution_count": 10,
     "metadata": {},
     "output_type": "execute_result"
    }
   ],
   "source": [
    "#pengujian dataset\n",
    "\n",
    "y_prediksi = model.predict(X_test)\n",
    "y_prediksi"
   ]
  },
  {
   "cell_type": "code",
   "execution_count": 11,
   "id": "728b14ab-d9dc-435f-bf3d-af0265b4ea24",
   "metadata": {},
   "outputs": [
    {
     "name": "stdout",
     "output_type": "stream",
     "text": [
      "0.8\n"
     ]
    }
   ],
   "source": [
    "#pengujian tingkat Accurasi\n",
    "\n",
    "import sklearn.metrics as met\n",
    "print(met.accuracy_score(y_test, y_prediksi))"
   ]
  },
  {
   "cell_type": "code",
   "execution_count": 12,
   "id": "68aa3c21-a17e-4a3a-a5f7-7c60fda8605a",
   "metadata": {},
   "outputs": [
    {
     "data": {
      "image/png": "[encoded data removed]",
      "text/plain": [
       "<Figure size 720x720 with 1 Axes>"
      ]
     },
     "metadata": {
      "needs_background": "light"
     },
     "output_type": "display_data"
    }
   ],
   "source": [
    "#visualisasi\n",
    "\n",
    "import matplotlib.pyplot as plt\n",
    "from sklearn import tree\n",
    "\n",
    "plt.subplots(figsize=(10,10))\n",
    "tree.plot_tree(model, fontsize=10)\n",
    "plt.show()"
   ]
  },
  {
   "cell_type": "code",
   "execution_count": null,
   "id": "d69de876-f9c3-43d2-933c-cf1cef985725",
   "metadata": {},
   "outputs": [],
   "source": []
  }
 ],
 "metadata": {
  "kernelspec": {
   "display_name": "Python 3",
   "language": "python",
   "name": "python3"
  },
  "language_info": {
   "codemirror_mode": {
    "name": "ipython",
    "version": 3
   },
   "file_extension": ".py",
   "mimetype": "text/x-python",
   "name": "python",
   "nbconvert_exporter": "python",
   "pygments_lexer": "ipython3",
   "version": "3.8.8"
  }
 },
 "nbformat": 4,
 "nbformat_minor": 5
}
