{
 "cells": [
  {
   "cell_type": "code",
   "execution_count": 64,
   "id": "9fcf9b4d",
   "metadata": {},
   "outputs": [],
   "source": [
    "import statistics"
   ]
  },
  {
   "cell_type": "code",
   "execution_count": 65,
   "id": "28141a18",
   "metadata": {},
   "outputs": [],
   "source": [
    "P = [2,4,4,4,5,7,9]"
   ]
  },
  {
   "cell_type": "code",
   "execution_count": 66,
   "id": "8cb19a64",
   "metadata": {},
   "outputs": [
    {
     "data": {
      "text/plain": [
       "5"
      ]
     },
     "execution_count": 66,
     "metadata": {},
     "output_type": "execute_result"
    }
   ],
   "source": [
    "statistics.mean(P)"
   ]
  },
  {
   "cell_type": "code",
   "execution_count": 67,
   "id": "16c16853",
   "metadata": {},
   "outputs": [],
   "source": [
    "import numpy as np"
   ]
  },
  {
   "cell_type": "code",
   "execution_count": 68,
   "id": "264fcc12-bf01-4b2d-8010-4ea0d72cf745",
   "metadata": {},
   "outputs": [],
   "source": [
    "Q = [2,4,4,4,5,5,7,9]"
   ]
  },
  {
   "cell_type": "code",
   "execution_count": 69,
   "id": "53b2618c-2d15-4bf5-a8c3-c8f93706b77f",
   "metadata": {},
   "outputs": [
    {
     "data": {
      "text/plain": [
       "5.0"
      ]
     },
     "execution_count": 69,
     "metadata": {},
     "output_type": "execute_result"
    }
   ],
   "source": [
    "np.mean(Q)"
   ]
  },
  {
   "cell_type": "code",
   "execution_count": 70,
   "id": "0be13261-2da6-4399-b809-28d3bceaa3ed",
   "metadata": {},
   "outputs": [
    {
     "data": {
      "text/plain": [
       "2.0"
      ]
     },
     "execution_count": 70,
     "metadata": {},
     "output_type": "execute_result"
    }
   ],
   "source": [
    "np.std(Q)"
   ]
  },
  {
   "cell_type": "code",
   "execution_count": 71,
   "id": "16a3630a-147a-4d17-9915-3a53d6248da7",
   "metadata": {},
   "outputs": [
    {
     "data": {
      "text/plain": [
       "4.5"
      ]
     },
     "execution_count": 71,
     "metadata": {},
     "output_type": "execute_result"
    }
   ],
   "source": [
    "np.median(P)\n",
    "np.median(Q)"
   ]
  },
  {
   "cell_type": "code",
   "execution_count": 72,
   "id": "80d2c8e7-ca18-4625-bda7-f3178564304a",
   "metadata": {},
   "outputs": [
    {
     "data": {
      "text/plain": [
       "9"
      ]
     },
     "execution_count": 72,
     "metadata": {},
     "output_type": "execute_result"
    }
   ],
   "source": [
    "np.max(P)"
   ]
  },
  {
   "cell_type": "code",
   "execution_count": 73,
   "id": "888fb39d-dd18-416a-aaee-fe6aca728291",
   "metadata": {},
   "outputs": [
    {
     "data": {
      "text/plain": [
       "2"
      ]
     },
     "execution_count": 73,
     "metadata": {},
     "output_type": "execute_result"
    }
   ],
   "source": [
    "np.min(P)"
   ]
  },
  {
   "cell_type": "code",
   "execution_count": 74,
   "id": "89c7f5b0-45c8-43ef-9665-23b8b78dbca6",
   "metadata": {},
   "outputs": [
    {
     "data": {
      "text/plain": [
       "4.0"
      ]
     },
     "execution_count": 74,
     "metadata": {},
     "output_type": "execute_result"
    }
   ],
   "source": [
    "np.percentile(P,25)"
   ]
  },
  {
   "cell_type": "code",
   "execution_count": 75,
   "id": "8e769d7e-0301-4bbc-a9b1-5c338a8c76ac",
   "metadata": {},
   "outputs": [
    {
     "data": {
      "text/plain": [
       "4.0"
      ]
     },
     "execution_count": 75,
     "metadata": {},
     "output_type": "execute_result"
    }
   ],
   "source": [
    "np.percentile(P,50)"
   ]
  },
  {
   "cell_type": "code",
   "execution_count": 76,
   "id": "6b28c861-09f7-412a-817f-d1a319768434",
   "metadata": {},
   "outputs": [
    {
     "data": {
      "text/plain": [
       "6.0"
      ]
     },
     "execution_count": 76,
     "metadata": {},
     "output_type": "execute_result"
    }
   ],
   "source": [
    "np.percentile(P,75)"
   ]
  },
  {
   "cell_type": "code",
   "execution_count": 77,
   "id": "6e54b9e1-df35-4f9b-ac0f-21525aae600d",
   "metadata": {},
   "outputs": [
    {
     "data": {
      "text/plain": [
       "4.0"
      ]
     },
     "execution_count": 77,
     "metadata": {},
     "output_type": "execute_result"
    }
   ],
   "source": [
    "np.percentile(P,30)"
   ]
  },
  {
   "cell_type": "code",
   "execution_count": 78,
   "id": "02b023cc-ba02-4a0a-a48a-608c438ac7d7",
   "metadata": {},
   "outputs": [
    {
     "data": {
      "text/plain": [
       "4.571428571428571"
      ]
     },
     "execution_count": 78,
     "metadata": {},
     "output_type": "execute_result"
    }
   ],
   "source": [
    "np.var(P)"
   ]
  },
  {
   "cell_type": "code",
   "execution_count": 79,
   "id": "79d39400-fcc5-4832-9211-2b391bd16d06",
   "metadata": {},
   "outputs": [
    {
     "data": {
      "text/plain": [
       "4.0"
      ]
     },
     "execution_count": 79,
     "metadata": {},
     "output_type": "execute_result"
    }
   ],
   "source": [
    "np.var(Q)"
   ]
  },
  {
   "cell_type": "code",
   "execution_count": 80,
   "id": "3793aaab-ece8-45f4-9f52-5bf07463d74b",
   "metadata": {},
   "outputs": [],
   "source": [
    "A = [2,4,4,4,5,5,7,9]\n",
    "B = [10,13,15,14,13,16,18,21]"
   ]
  },
  {
   "cell_type": "code",
   "execution_count": 81,
   "id": "b9a03239-97df-4840-80b6-fc64e3c11956",
   "metadata": {},
   "outputs": [
    {
     "data": {
      "text/plain": [
       "array([[ 4.57142857,  6.85714286],\n",
       "       [ 6.85714286, 11.42857143]])"
      ]
     },
     "execution_count": 81,
     "metadata": {},
     "output_type": "execute_result"
    }
   ],
   "source": [
    "np.cov(A,B)"
   ]
  },
  {
   "cell_type": "code",
   "execution_count": 82,
   "id": "c279ca5f-fafc-4d04-a675-9fba5aa19db5",
   "metadata": {},
   "outputs": [
    {
     "data": {
      "text/plain": [
       "6.857142857142857"
      ]
     },
     "execution_count": 82,
     "metadata": {},
     "output_type": "execute_result"
    }
   ],
   "source": [
    "np.cov(A,B)[0,1]"
   ]
  },
  {
   "cell_type": "code",
   "execution_count": 83,
   "id": "0ee429c9-8014-41b5-8666-2fba1e0e772e",
   "metadata": {},
   "outputs": [
    {
     "data": {
      "text/plain": [
       "11.428571428571427"
      ]
     },
     "execution_count": 83,
     "metadata": {},
     "output_type": "execute_result"
    }
   ],
   "source": [
    "np.cov(A,B)[1,1]\n"
   ]
  },
  {
   "cell_type": "code",
   "execution_count": 84,
   "id": "4fd1ebc0-7536-43b1-9721-eecb76551059",
   "metadata": {},
   "outputs": [
    {
     "data": {
      "text/plain": [
       "6.857142857142857"
      ]
     },
     "execution_count": 84,
     "metadata": {},
     "output_type": "execute_result"
    }
   ],
   "source": [
    "np.cov(A,B)[1,0]"
   ]
  },
  {
   "cell_type": "code",
   "execution_count": 85,
   "id": "ef7bc755-f75d-4517-8cf8-716903812388",
   "metadata": {},
   "outputs": [
    {
     "data": {
      "text/plain": [
       "array([[1.       , 0.9486833],\n",
       "       [0.9486833, 1.       ]])"
      ]
     },
     "execution_count": 85,
     "metadata": {},
     "output_type": "execute_result"
    }
   ],
   "source": [
    "np.corrcoef(A,B)"
   ]
  },
  {
   "cell_type": "code",
   "execution_count": null,
   "id": "50a1ea5e-5d42-4762-adc2-af6a74c8c5e2",
   "metadata": {},
   "outputs": [],
   "source": []
  }
 ],
 "metadata": {
  "kernelspec": {
   "display_name": "Python 3",
   "language": "python",
   "name": "python3"
  },
  "language_info": {
   "codemirror_mode": {
    "name": "ipython",
    "version": 3
   },
   "file_extension": ".py",
   "mimetype": "text/x-python",
   "name": "python",
   "nbconvert_exporter": "python",
   "pygments_lexer": "ipython3",
   "version": "3.8.8"
  }
 },
 "nbformat": 4,
 "nbformat_minor": 5
}
